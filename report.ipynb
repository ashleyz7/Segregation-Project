{
 "cells": [
  {
   "cell_type": "markdown",
   "metadata": {},
   "source": [
    "# Segregation Report\n",
    "**The formulas I choose are dissimilarity, interaction and isolation.**"
   ]
  },
  {
   "cell_type": "markdown",
   "metadata": {},
   "source": [
    "For dissimilarity, it measures \"the percentage of a group's population that would have to change residence for each neighborhood to have the same percentage of that group as the metropolitan area overall\". With the formula below, we could see its numerator (adding up the results of each area’s population times the absolute value of the difference between the proportion of that area’s minority population and the proportion of the metropolitan area’s minority population) basically calculates the overall difference between all the individual area’s minority population percentage and metropolitan area’s minority population percentage; while its denominator (two times the product of the total population of the metropolitan area, the proportion of the metropolitan area’s minority population, and the proportion of the metropolitan area’s majority population) considers the distribution of both the minority population and the majority population in the metropolitan area. Through division, the result would be the percentage of the minority population that needs to be moved to a different area to make the area distribution matches the large area (metropolitan) distribution. In other words, dissimilarity indicates the population distribution evenness of a city, because it calculates out the percentage should be moved in order to create an even population distribution. Therefore, the bigger the dissimilarity index is, the more segregated the city is. The advantage of dissimilarity index would be that it captures both minority and majority population distribution (on the denominator) to compare, which provides us a holistic view of the metropolitan’s distribution. While I feel one of the potential disadvantage is that it merely considers the small area’s minority population while ignore the majority population (on the numerator), so when the minority proportions are small, we may still get a large dissimilarity index even if there is actually not much segregation exists, meaning it is actually an inaccurate result.\n",
    "\n",
    "\\begin{equation*}\n",
    "\\frac{\\sum_{i=1}^n \\lbrack t_i \\lvert\\left( p_i - P \\right)\\rvert \\rbrack}{\\lbrack2TP\\left(1 - P\\right)\\rbrack}\n",
    "\\end{equation*}"
   ]
  },
  {
   "cell_type": "markdown",
   "metadata": {},
   "source": [
    "For interaction, it measures “the exposure of minority group members to members of the majority group”. As the functions shown below, it adding up all the product of the ratio of minority population of a specific area to the total minority population times the ratio of majority population of a specific area to the total population of that area, meaning it calculates out the minority-weighted average of the majority proportion in each area. As it is a measurement of exposure, the results indicate the extent that the minority groups would meet or interact with majority group, and thus reflect the extent of segregation.  In other words, the larger the interaction index is, the less segregated the city is. The advantage of using interaction index would be that it uses the proportion of a certain area’s minority population proportion within the total minority population instead of directly using the minority population number of that area, and thus making the result more accurate. As to its disadvantage, I feel like it highly depends on the geographical boundary as it requires the minority population, majority population and the total population of a specific area, therefore, if the area boundary changes, the segregation result it yields about one same city may also change. \n",
    "\n",
    "\\begin{equation*}\n",
    "\\sum_{i=1}^n \\left[\\left(\\frac{x_i}{X}\\right)\\left(\\frac{y_i}{t_i}\\right)\\right]\n",
    "\\end{equation*}"
   ]
  },
  {
   "cell_type": "markdown",
   "metadata": {},
   "source": [
    "Correspondingly, isolation measures “the extent to which minority members are exposed only to one another”. As the functions shown below, it adding up all the product of the ratio of minority population of a specific area to the total minority population times the ratio of minority population of a specific area to the total population of that area. As it is a measurement of exposure, the results indicate the extent that the minority group would meet or interact with minority group, and thus reflect the extent of segregation. In other words, the larger the isolation index is, the more segregated the city is. Similarly, isolation index also uses the proportion of a certain area’s minority population proportion within the total minority population instead of directly using the minority population number of that area, which leads to a more accurate result. It also largely depends on the geographical boundary as it uses the minority population and the total population of a specific area three times in this equation, therefore, if the area boundary changes, the segregation result it yields about one same city may also be affected, which might be a potential disadvantage.\n",
    "\n",
    "\\begin{equation*}\n",
    "\\sum_{i=1}^n \\left[\\left(\\frac{x_i}{X}\\right)\\left(\\frac{x_i}{t_i}\\right)\\right]\n",
    "\\end{equation*}"
   ]
  },
  {
   "cell_type": "markdown",
   "metadata": {},
   "source": [
    "Based on the dissimilarity graph below, Milwaukee has the largest dissimilarity index, meaning it is the most segregated city, followed by Baltimore and St_louis. However, according to the interaction graph below, Baltimore has the smallest interaction index, meaning it is the most segregated city, followed by Chicago and Milwaukee. Same for the isolation, based on the graph, Baltimore has the largest isolation index, meaning it is the most segregated city, followed by Chicago and Milwaukee. \n",
    "\n",
    "![dissimilarity](images/dissimilarity.png)\n",
    "![interaction](images/interaction.png)\n",
    "![isolation](images/isolation.png)"
   ]
  },
  {
   "cell_type": "markdown",
   "metadata": {},
   "source": [
    "The ranking of segregation seems to not change according to the interaction and isolation, because there are only two groups we consider (non-white as the minority and white as the majority. Hence, the isolation and interaction indexes must sum to 1, and lower values of interaction must cause higher values of isolation as the graph shows below. \n",
    "\n",
    "![isolation and interaction](images/iso-int.png)\n"
   ]
  },
  {
   "cell_type": "markdown",
   "metadata": {},
   "source": [
    "According to the graph below, we would found that the top three cities with the lowest isolation index are still the top three cities with the lowest dissimilarity index; the two out of the top three cities with the highest isolation index are also among the top three cities with the highest dissimilarity index; but there are still some ranking differences in terms of the cities with intermediate segregation. Therefore, we could say that the ranking of segregation generated by the dissimilarity seems to be somewhat different from the results generated by the interaction and isolation. I think this is because dissimilarity focus more on the evenness (distribution of the population), interaction and isolation focus more on the exposure (contact among the population). Therefore, in order to fully evaluate a city’s segregation, we should take into consideration as many aspects as possible. By analyzing and assessing all the evenness, exposure, concentration, centralization and clustering measurements, we then will be able to generate a precise conclusion of certain city’s segregation. \n",
    "![isolation and dissimilarity](images/iso-dis.png)"
   ]
  },
  {
   "cell_type": "markdown",
   "metadata": {},
   "source": [
    "I would propose a metric that combines dissimilarity and isolation. As bigger dissimilarity index and isolation index both represent higher segregation, adding up those two index would return a more accurate segregation value. Similarly, the higher that value is, the more segregated the area is. The final equation would be: \n",
    "\n",
    "\\begin{equation*}\n",
    "\\frac{\\sum_{i=1}^n \\lbrack t_i \\lvert\\left( p_i - P \\right)\\rvert \\rbrack}{\\lbrack2TP\\left(1 - P\\right)\\rbrack} + \\sum_{i=1}^n \\left[\\left(\\frac{x_i}{X}\\right)\\left(\\frac{x_i}{t_i}\\right)\\right]\n",
    "\\end{equation*}"
   ]
  },
  {
   "cell_type": "markdown",
   "metadata": {},
   "source": [
    "where n is the number of areas (census tracts) in the metropolitan area, ti is the total population of area i, pi is the proportion of area i's population that is minority, P is the ratio of the metropolitan area's population that is minority, T is the total population, ti is the total population of area i, X is the total minority population, and xi is the minority population of area i. \n",
    "\n",
    "This new segregation index would provide us a more accurate and holistic segregation result because it considers both a measure of evenness and a measure of exposure. Combining those two dimensions together would reduce the difference in segregation result which comes up when calculating the dissimilarity and isolation separately. However, disadvantages of this metrics still exist. Due to its failure to incorporate the concentration, centralization, clustering measurement, this segregation index may still overlook some factors that largely influence segregation. Another disadvantage might be that it includes too many factors and thus it is hard to calculate. "
   ]
  },
  {
   "cell_type": "markdown",
   "metadata": {},
   "source": [
    "Based on the graph and table below, we could see that the overall trend of our new segregation index is the same as that of the isolation index, but the new segregation index’s trend is still somewhat different from the ranking trend of the dissimilarity trend. It seems like the isolation index dominates our new segregation index more than the dissimilarity index, and thus we may need to incorporate other measurements to improve the final segregation result. \n",
    "\n",
    "![table with new segregation](images/new-seg-table.png)\n",
    "![table with new segregation](images/new-seg-graph.png)"
   ]
  },
  {
   "cell_type": "code",
   "execution_count": null,
   "metadata": {},
   "outputs": [],
   "source": []
  },
  {
   "cell_type": "code",
   "execution_count": null,
   "metadata": {},
   "outputs": [],
   "source": []
  }
 ],
 "metadata": {
  "kernelspec": {
   "display_name": "Python 3",
   "language": "python",
   "name": "python3"
  },
  "language_info": {
   "codemirror_mode": {
    "name": "ipython",
    "version": 3
   },
   "file_extension": ".py",
   "mimetype": "text/x-python",
   "name": "python",
   "nbconvert_exporter": "python",
   "pygments_lexer": "ipython3",
   "version": "3.7.1"
  }
 },
 "nbformat": 4,
 "nbformat_minor": 2
}
