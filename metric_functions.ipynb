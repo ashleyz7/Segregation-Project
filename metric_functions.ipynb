{
 "cells": [
  {
   "cell_type": "code",
   "execution_count": 10,
   "metadata": {},
   "outputs": [],
   "source": []
  },
  {
   "cell_type": "code",
   "execution_count": 1,
   "metadata": {},
   "outputs": [],
   "source": [
    "def dissimilarity (all_city):\n",
    "    \"\"\"calculate the dissimilarity index of all the cities\n",
    "    \"\"\"\n",
    "    diss_index = []\n",
    "    for i in list(all_city.groupby('city').groups.keys()):\n",
    "        p = all_city[all_city.city == i].pop_not_white.sum()/all_city[all_city.city == i].total_pop.sum()\n",
    "        addition = sum(all_city[all_city.city == i].total_pop * abs(all_city[all_city.city == i].pct_not_white - p))\n",
    "        result = addition/(2 * all_city[all_city.city == i].total_pop.sum() * p * (1 - p))\n",
    "        diss_index.append(result)\n",
    "    return diss_index\n",
    "\n",
    "def interaction (all_city):\n",
    "    \"\"\"calculate the interaction index of certain place\n",
    "    \"\"\"\n",
    "    inter_index = []\n",
    "    for i in list(all_city.groupby('city').groups.keys()):\n",
    "        x = all_city[all_city.city == i].pop_not_white.sum()\n",
    "        result = sum((all_city[all_city.city == i].pop_not_white/x) * (all_city[all_city.city == i].pop_white/all_city[all_city.city == i].total_pop))\n",
    "        inter_index.append(result)\n",
    "    return inter_index\n",
    "\n",
    "def isolation (all_city):\n",
    "    \"\"\"calculate the isolation index of certain place\n",
    "    \"\"\"\n",
    "    iso_index = []\n",
    "    for i in list(all_city.groupby('city').groups.keys()):\n",
    "        x = all_city[all_city.city == i].pop_not_white.sum()\n",
    "        result = sum((all_city[all_city.city == i].pop_not_white/x) * (all_city[all_city.city == i].pop_not_white/all_city[all_city.city == i].total_pop))\n",
    "        iso_index.append(result)\n",
    "    return iso_index\n",
    "\n",
    "def newSeg (all_city):\n",
    "    \"\"\"calculate a new segregation index that combines isolation and dissimilarity of certain place\n",
    "    \"\"\"\n",
    "    this_index = []\n",
    "    for i in list(all_city.groupby('city').groups.keys()):\n",
    "        x = all_city[all_city.city == i].pop_not_white.sum()\n",
    "        result_first = sum((all_city[all_city.city == i].pop_not_white/x) * (all_city[all_city.city == i].pop_not_white/all_city[all_city.city == i].total_pop))\n",
    "        result_second = sum((all_city[all_city.city == i].pop_not_white/x) * (all_city[all_city.city == i].pop_not_white/all_city[all_city.city == i].total_pop))\n",
    "        result = result_first + result_second\n",
    "        this_index.append(result)\n",
    "    return this_index\n"
   ]
  },
  {
   "cell_type": "code",
   "execution_count": null,
   "metadata": {},
   "outputs": [],
   "source": []
  }
 ],
 "metadata": {
  "kernelspec": {
   "display_name": "Python 3",
   "language": "python",
   "name": "python3"
  },
  "language_info": {
   "codemirror_mode": {
    "name": "ipython",
    "version": 3
   },
   "file_extension": ".py",
   "mimetype": "text/x-python",
   "name": "python",
   "nbconvert_exporter": "python",
   "pygments_lexer": "ipython3",
   "version": "3.7.1"
  }
 },
 "nbformat": 4,
 "nbformat_minor": 2
}
