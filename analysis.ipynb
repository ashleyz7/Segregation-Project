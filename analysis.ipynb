{
 "cells": [
  {
   "cell_type": "code",
   "execution_count": 1,
   "metadata": {},
   "outputs": [],
   "source": [
    "import pandas as pd\n",
    "import matplotlib.pyplot as plt\n",
    "import seaborn as sns\n",
    "import metric_functions as mf"
   ]
  },
  {
   "cell_type": "code",
   "execution_count": 2,
   "metadata": {},
   "outputs": [],
   "source": [
    "baltimore = pd.read_csv('data/prepped/baltimore_race.csv')\n",
    "charleston = pd.read_csv('data/prepped/charleston_race.csv')\n",
    "chicago = pd.read_csv('data/prepped/chicago_race.csv')\n",
    "columbus = pd.read_csv('data/prepped/columbus_race.csv')\n",
    "dayton = pd.read_csv('data/prepped/dayton_race.csv')\n",
    "denver = pd.read_csv('data/prepped/denver_race.csv')\n",
    "kc = pd.read_csv('data/prepped/kc_race.csv')\n",
    "memphis = pd.read_csv('data/prepped/memphis_race.csv')\n",
    "milwaukee = pd.read_csv('data/prepped/milwaukee_race.csv')\n",
    "ok_city = pd.read_csv('data/prepped/ok_city_race.csv')\n",
    "pittsburgh = pd.read_csv('data/prepped/pittsburgh_race.csv')\n",
    "st_louis = pd.read_csv('data/prepped/st_louis_race.csv')\n",
    "syracuse = pd.read_csv('data/prepped/syracuse_race.csv')\n",
    "wichita = pd.read_csv('data/prepped/wichita_race.csv')\n"
   ]
  },
  {
   "cell_type": "code",
   "execution_count": 3,
   "metadata": {},
   "outputs": [],
   "source": [
    "baltimore['city'] = 'baltimore'\n",
    "charleston['city'] = 'charleston'\n",
    "chicago['city'] = 'chicago'\n",
    "columbus['city'] = 'columbus'\n",
    "dayton['city'] = 'dayton'\n",
    "denver['city'] = 'denver'\n",
    "kc['city'] = 'kc'\n",
    "memphis['city'] = 'memphis'\n",
    "milwaukee['city'] = 'milwaukee'\n",
    "ok_city['city'] = 'ok_city'\n",
    "pittsburgh['city'] = 'pittsburgh'\n",
    "st_louis['city'] = 'st_louis'\n",
    "syracuse['city'] = 'syracuse'\n",
    "wichita['city'] = 'wichita'"
   ]
  },
  {
   "cell_type": "code",
   "execution_count": 4,
   "metadata": {},
   "outputs": [
    {
     "data": {
      "text/html": [
       "<div>\n",
       "<style scoped>\n",
       "    .dataframe tbody tr th:only-of-type {\n",
       "        vertical-align: middle;\n",
       "    }\n",
       "\n",
       "    .dataframe tbody tr th {\n",
       "        vertical-align: top;\n",
       "    }\n",
       "\n",
       "    .dataframe thead th {\n",
       "        text-align: right;\n",
       "    }\n",
       "</style>\n",
       "<table border=\"1\" class=\"dataframe\">\n",
       "  <thead>\n",
       "    <tr style=\"text-align: right;\">\n",
       "      <th></th>\n",
       "      <th>GEOID</th>\n",
       "      <th>GEO.display.label</th>\n",
       "      <th>total_pop</th>\n",
       "      <th>pop_white</th>\n",
       "      <th>pop_not_white</th>\n",
       "      <th>pct_white</th>\n",
       "      <th>pct_not_white</th>\n",
       "      <th>city</th>\n",
       "    </tr>\n",
       "  </thead>\n",
       "  <tbody>\n",
       "    <tr>\n",
       "      <th>0</th>\n",
       "      <td>24510010100</td>\n",
       "      <td>Census Tract 101, Baltimore city, Maryland</td>\n",
       "      <td>1378</td>\n",
       "      <td>1276</td>\n",
       "      <td>102</td>\n",
       "      <td>0.925980</td>\n",
       "      <td>0.074020</td>\n",
       "      <td>baltimore</td>\n",
       "    </tr>\n",
       "    <tr>\n",
       "      <th>1</th>\n",
       "      <td>24510010200</td>\n",
       "      <td>Census Tract 102, Baltimore city, Maryland</td>\n",
       "      <td>1262</td>\n",
       "      <td>1082</td>\n",
       "      <td>180</td>\n",
       "      <td>0.857369</td>\n",
       "      <td>0.142631</td>\n",
       "      <td>baltimore</td>\n",
       "    </tr>\n",
       "    <tr>\n",
       "      <th>2</th>\n",
       "      <td>24510010300</td>\n",
       "      <td>Census Tract 103, Baltimore city, Maryland</td>\n",
       "      <td>965</td>\n",
       "      <td>847</td>\n",
       "      <td>118</td>\n",
       "      <td>0.877720</td>\n",
       "      <td>0.122280</td>\n",
       "      <td>baltimore</td>\n",
       "    </tr>\n",
       "    <tr>\n",
       "      <th>3</th>\n",
       "      <td>24510010400</td>\n",
       "      <td>Census Tract 104, Baltimore city, Maryland</td>\n",
       "      <td>1196</td>\n",
       "      <td>1146</td>\n",
       "      <td>50</td>\n",
       "      <td>0.958194</td>\n",
       "      <td>0.041806</td>\n",
       "      <td>baltimore</td>\n",
       "    </tr>\n",
       "    <tr>\n",
       "      <th>4</th>\n",
       "      <td>24510010500</td>\n",
       "      <td>Census Tract 105, Baltimore city, Maryland</td>\n",
       "      <td>951</td>\n",
       "      <td>759</td>\n",
       "      <td>192</td>\n",
       "      <td>0.798107</td>\n",
       "      <td>0.201893</td>\n",
       "      <td>baltimore</td>\n",
       "    </tr>\n",
       "  </tbody>\n",
       "</table>\n",
       "</div>"
      ],
      "text/plain": [
       "         GEOID                           GEO.display.label  total_pop  \\\n",
       "0  24510010100  Census Tract 101, Baltimore city, Maryland       1378   \n",
       "1  24510010200  Census Tract 102, Baltimore city, Maryland       1262   \n",
       "2  24510010300  Census Tract 103, Baltimore city, Maryland        965   \n",
       "3  24510010400  Census Tract 104, Baltimore city, Maryland       1196   \n",
       "4  24510010500  Census Tract 105, Baltimore city, Maryland        951   \n",
       "\n",
       "   pop_white  pop_not_white  pct_white  pct_not_white       city  \n",
       "0       1276            102   0.925980       0.074020  baltimore  \n",
       "1       1082            180   0.857369       0.142631  baltimore  \n",
       "2        847            118   0.877720       0.122280  baltimore  \n",
       "3       1146             50   0.958194       0.041806  baltimore  \n",
       "4        759            192   0.798107       0.201893  baltimore  "
      ]
     },
     "execution_count": 4,
     "metadata": {},
     "output_type": "execute_result"
    }
   ],
   "source": [
    "all_city = pd.concat([baltimore, charleston, chicago, columbus, dayton, denver, kc, memphis, milwaukee, ok_city, pittsburgh, st_louis, syracuse, wichita], ignore_index = True)\n",
    "all_city.head()"
   ]
  },
  {
   "cell_type": "code",
   "execution_count": 5,
   "metadata": {},
   "outputs": [],
   "source": [
    "# all_city[all_city.city == 'charleston']\n",
    "# list(all_city.groupby('city').groups)\n",
    "# for i in list(all_city.groupby('city').groups.keys()):\n",
    "#     print(i)\n",
    "# #     print(all_city[all_city.city == i].total_pop)\n",
    "#     print(list(all_city[all_city.city == i].index))\n",
    "# # all_city.groupby('city').get_group('charleston')\n",
    "# analysis = pd.DataFrame(columns = ['city', 'dissimilarity', 'interaction', 'isolation'])\n",
    "# cityName = pd.Series(['baltimore', 'charleston', 'chicago', 'columbus', 'dayton', 'denver', 'kc', 'memphis','milwaukee', 'ok_city', 'pittsburgh', 'st_louis', 'syracusue', 'wichita'])"
   ]
  },
  {
   "cell_type": "code",
   "execution_count": 16,
   "metadata": {},
   "outputs": [],
   "source": [
    "dissimilarity = mf.dissimilarity(all_city)\n",
    "interaction = mf.interaction(all_city)\n",
    "isolation = mf.isolation(all_city)\n",
    "new_segregation = mf.newSeg(all_city)\n",
    "all_analysis = pd.DataFrame({\n",
    "    'city': list(all_city.groupby('city').groups.keys()),\n",
    "    'dissimilarity': dissimilarity,\n",
    "    'interaction': interaction,\n",
    "    'isolation': isolation,\n",
    "    'new_segregation': new_segregation\n",
    "})\n"
   ]
  },
  {
   "cell_type": "code",
   "execution_count": 17,
   "metadata": {},
   "outputs": [
    {
     "data": {
      "text/html": [
       "<div>\n",
       "<style scoped>\n",
       "    .dataframe tbody tr th:only-of-type {\n",
       "        vertical-align: middle;\n",
       "    }\n",
       "\n",
       "    .dataframe tbody tr th {\n",
       "        vertical-align: top;\n",
       "    }\n",
       "\n",
       "    .dataframe thead th {\n",
       "        text-align: right;\n",
       "    }\n",
       "</style>\n",
       "<table border=\"1\" class=\"dataframe\">\n",
       "  <thead>\n",
       "    <tr style=\"text-align: right;\">\n",
       "      <th></th>\n",
       "      <th>city</th>\n",
       "      <th>dissimilarity</th>\n",
       "      <th>interaction</th>\n",
       "      <th>isolation</th>\n",
       "      <th>new_segregation</th>\n",
       "    </tr>\n",
       "  </thead>\n",
       "  <tbody>\n",
       "    <tr>\n",
       "      <th>0</th>\n",
       "      <td>ok_city</td>\n",
       "      <td>0.321733</td>\n",
       "      <td>0.613472</td>\n",
       "      <td>0.386528</td>\n",
       "      <td>0.773056</td>\n",
       "    </tr>\n",
       "    <tr>\n",
       "      <th>1</th>\n",
       "      <td>denver</td>\n",
       "      <td>0.356283</td>\n",
       "      <td>0.685280</td>\n",
       "      <td>0.314720</td>\n",
       "      <td>0.629440</td>\n",
       "    </tr>\n",
       "    <tr>\n",
       "      <th>2</th>\n",
       "      <td>wichita</td>\n",
       "      <td>0.412259</td>\n",
       "      <td>0.639562</td>\n",
       "      <td>0.360438</td>\n",
       "      <td>0.720875</td>\n",
       "    </tr>\n",
       "    <tr>\n",
       "      <th>3</th>\n",
       "      <td>charleston</td>\n",
       "      <td>0.416165</td>\n",
       "      <td>0.518106</td>\n",
       "      <td>0.481894</td>\n",
       "      <td>0.963789</td>\n",
       "    </tr>\n",
       "    <tr>\n",
       "      <th>4</th>\n",
       "      <td>columbus</td>\n",
       "      <td>0.429214</td>\n",
       "      <td>0.537027</td>\n",
       "      <td>0.462973</td>\n",
       "      <td>0.925946</td>\n",
       "    </tr>\n",
       "    <tr>\n",
       "      <th>5</th>\n",
       "      <td>kc</td>\n",
       "      <td>0.449827</td>\n",
       "      <td>0.580669</td>\n",
       "      <td>0.419331</td>\n",
       "      <td>0.838661</td>\n",
       "    </tr>\n",
       "    <tr>\n",
       "      <th>6</th>\n",
       "      <td>chicago</td>\n",
       "      <td>0.517389</td>\n",
       "      <td>0.336215</td>\n",
       "      <td>0.663785</td>\n",
       "      <td>1.327569</td>\n",
       "    </tr>\n",
       "    <tr>\n",
       "      <th>7</th>\n",
       "      <td>dayton</td>\n",
       "      <td>0.521216</td>\n",
       "      <td>0.507270</td>\n",
       "      <td>0.492730</td>\n",
       "      <td>0.985460</td>\n",
       "    </tr>\n",
       "    <tr>\n",
       "      <th>8</th>\n",
       "      <td>pittsburgh</td>\n",
       "      <td>0.522873</td>\n",
       "      <td>0.602966</td>\n",
       "      <td>0.397034</td>\n",
       "      <td>0.794069</td>\n",
       "    </tr>\n",
       "    <tr>\n",
       "      <th>9</th>\n",
       "      <td>syracuse</td>\n",
       "      <td>0.538142</td>\n",
       "      <td>0.606171</td>\n",
       "      <td>0.393829</td>\n",
       "      <td>0.787658</td>\n",
       "    </tr>\n",
       "    <tr>\n",
       "      <th>10</th>\n",
       "      <td>memphis</td>\n",
       "      <td>0.571606</td>\n",
       "      <td>0.481195</td>\n",
       "      <td>0.518805</td>\n",
       "      <td>1.037609</td>\n",
       "    </tr>\n",
       "    <tr>\n",
       "      <th>11</th>\n",
       "      <td>st_louis</td>\n",
       "      <td>0.604476</td>\n",
       "      <td>0.420453</td>\n",
       "      <td>0.579547</td>\n",
       "      <td>1.159094</td>\n",
       "    </tr>\n",
       "    <tr>\n",
       "      <th>12</th>\n",
       "      <td>baltimore</td>\n",
       "      <td>0.611119</td>\n",
       "      <td>0.217094</td>\n",
       "      <td>0.782906</td>\n",
       "      <td>1.565813</td>\n",
       "    </tr>\n",
       "    <tr>\n",
       "      <th>13</th>\n",
       "      <td>milwaukee</td>\n",
       "      <td>0.618740</td>\n",
       "      <td>0.404241</td>\n",
       "      <td>0.595759</td>\n",
       "      <td>1.191517</td>\n",
       "    </tr>\n",
       "  </tbody>\n",
       "</table>\n",
       "</div>"
      ],
      "text/plain": [
       "          city  dissimilarity  interaction  isolation  new_segregation\n",
       "0      ok_city       0.321733     0.613472   0.386528         0.773056\n",
       "1       denver       0.356283     0.685280   0.314720         0.629440\n",
       "2      wichita       0.412259     0.639562   0.360438         0.720875\n",
       "3   charleston       0.416165     0.518106   0.481894         0.963789\n",
       "4     columbus       0.429214     0.537027   0.462973         0.925946\n",
       "5           kc       0.449827     0.580669   0.419331         0.838661\n",
       "6      chicago       0.517389     0.336215   0.663785         1.327569\n",
       "7       dayton       0.521216     0.507270   0.492730         0.985460\n",
       "8   pittsburgh       0.522873     0.602966   0.397034         0.794069\n",
       "9     syracuse       0.538142     0.606171   0.393829         0.787658\n",
       "10     memphis       0.571606     0.481195   0.518805         1.037609\n",
       "11    st_louis       0.604476     0.420453   0.579547         1.159094\n",
       "12   baltimore       0.611119     0.217094   0.782906         1.565813\n",
       "13   milwaukee       0.618740     0.404241   0.595759         1.191517"
      ]
     },
     "execution_count": 17,
     "metadata": {},
     "output_type": "execute_result"
    }
   ],
   "source": [
    "all_analysis = all_analysis.sort_values(['dissimilarity'], ascending=[True])\n",
    "all_analysis.reset_index(drop=True)\n"
   ]
  },
  {
   "cell_type": "code",
   "execution_count": 18,
   "metadata": {},
   "outputs": [
    {
     "data": {
      "text/plain": [
       "Text(0.5, 1.0, 'dissimilarity by city')"
      ]
     },
     "execution_count": 18,
     "metadata": {},
     "output_type": "execute_result"
    },
    {
     "data": {
      "image/png": "[encoded data removed]",
      "text/plain": [
       "<Figure size 432x288 with 1 Axes>"
      ]
     },
     "metadata": {
      "needs_background": "light"
     },
     "output_type": "display_data"
    }
   ],
   "source": [
    "plt.barh(all_analysis.city, all_analysis.dissimilarity)\n",
    "plt.xlabel('dissimilarity index')\n",
    "plt.ylabel('city')\n",
    "plt.title('dissimilarity by city')\n"
   ]
  },
  {
   "cell_type": "code",
   "execution_count": 19,
   "metadata": {},
   "outputs": [
    {
     "data": {
      "text/html": [
       "<div>\n",
       "<style scoped>\n",
       "    .dataframe tbody tr th:only-of-type {\n",
       "        vertical-align: middle;\n",
       "    }\n",
       "\n",
       "    .dataframe tbody tr th {\n",
       "        vertical-align: top;\n",
       "    }\n",
       "\n",
       "    .dataframe thead th {\n",
       "        text-align: right;\n",
       "    }\n",
       "</style>\n",
       "<table border=\"1\" class=\"dataframe\">\n",
       "  <thead>\n",
       "    <tr style=\"text-align: right;\">\n",
       "      <th></th>\n",
       "      <th>city</th>\n",
       "      <th>dissimilarity</th>\n",
       "      <th>interaction</th>\n",
       "      <th>isolation</th>\n",
       "      <th>new_segregation</th>\n",
       "    </tr>\n",
       "  </thead>\n",
       "  <tbody>\n",
       "    <tr>\n",
       "      <th>0</th>\n",
       "      <td>denver</td>\n",
       "      <td>0.356283</td>\n",
       "      <td>0.685280</td>\n",
       "      <td>0.314720</td>\n",
       "      <td>0.629440</td>\n",
       "    </tr>\n",
       "    <tr>\n",
       "      <th>1</th>\n",
       "      <td>wichita</td>\n",
       "      <td>0.412259</td>\n",
       "      <td>0.639562</td>\n",
       "      <td>0.360438</td>\n",
       "      <td>0.720875</td>\n",
       "    </tr>\n",
       "    <tr>\n",
       "      <th>2</th>\n",
       "      <td>ok_city</td>\n",
       "      <td>0.321733</td>\n",
       "      <td>0.613472</td>\n",
       "      <td>0.386528</td>\n",
       "      <td>0.773056</td>\n",
       "    </tr>\n",
       "    <tr>\n",
       "      <th>3</th>\n",
       "      <td>syracuse</td>\n",
       "      <td>0.538142</td>\n",
       "      <td>0.606171</td>\n",
       "      <td>0.393829</td>\n",
       "      <td>0.787658</td>\n",
       "    </tr>\n",
       "    <tr>\n",
       "      <th>4</th>\n",
       "      <td>pittsburgh</td>\n",
       "      <td>0.522873</td>\n",
       "      <td>0.602966</td>\n",
       "      <td>0.397034</td>\n",
       "      <td>0.794069</td>\n",
       "    </tr>\n",
       "    <tr>\n",
       "      <th>5</th>\n",
       "      <td>kc</td>\n",
       "      <td>0.449827</td>\n",
       "      <td>0.580669</td>\n",
       "      <td>0.419331</td>\n",
       "      <td>0.838661</td>\n",
       "    </tr>\n",
       "    <tr>\n",
       "      <th>6</th>\n",
       "      <td>columbus</td>\n",
       "      <td>0.429214</td>\n",
       "      <td>0.537027</td>\n",
       "      <td>0.462973</td>\n",
       "      <td>0.925946</td>\n",
       "    </tr>\n",
       "    <tr>\n",
       "      <th>7</th>\n",
       "      <td>charleston</td>\n",
       "      <td>0.416165</td>\n",
       "      <td>0.518106</td>\n",
       "      <td>0.481894</td>\n",
       "      <td>0.963789</td>\n",
       "    </tr>\n",
       "    <tr>\n",
       "      <th>8</th>\n",
       "      <td>dayton</td>\n",
       "      <td>0.521216</td>\n",
       "      <td>0.507270</td>\n",
       "      <td>0.492730</td>\n",
       "      <td>0.985460</td>\n",
       "    </tr>\n",
       "    <tr>\n",
       "      <th>9</th>\n",
       "      <td>memphis</td>\n",
       "      <td>0.571606</td>\n",
       "      <td>0.481195</td>\n",
       "      <td>0.518805</td>\n",
       "      <td>1.037609</td>\n",
       "    </tr>\n",
       "    <tr>\n",
       "      <th>10</th>\n",
       "      <td>st_louis</td>\n",
       "      <td>0.604476</td>\n",
       "      <td>0.420453</td>\n",
       "      <td>0.579547</td>\n",
       "      <td>1.159094</td>\n",
       "    </tr>\n",
       "    <tr>\n",
       "      <th>11</th>\n",
       "      <td>milwaukee</td>\n",
       "      <td>0.618740</td>\n",
       "      <td>0.404241</td>\n",
       "      <td>0.595759</td>\n",
       "      <td>1.191517</td>\n",
       "    </tr>\n",
       "    <tr>\n",
       "      <th>12</th>\n",
       "      <td>chicago</td>\n",
       "      <td>0.517389</td>\n",
       "      <td>0.336215</td>\n",
       "      <td>0.663785</td>\n",
       "      <td>1.327569</td>\n",
       "    </tr>\n",
       "    <tr>\n",
       "      <th>13</th>\n",
       "      <td>baltimore</td>\n",
       "      <td>0.611119</td>\n",
       "      <td>0.217094</td>\n",
       "      <td>0.782906</td>\n",
       "      <td>1.565813</td>\n",
       "    </tr>\n",
       "  </tbody>\n",
       "</table>\n",
       "</div>"
      ],
      "text/plain": [
       "          city  dissimilarity  interaction  isolation  new_segregation\n",
       "0       denver       0.356283     0.685280   0.314720         0.629440\n",
       "1      wichita       0.412259     0.639562   0.360438         0.720875\n",
       "2      ok_city       0.321733     0.613472   0.386528         0.773056\n",
       "3     syracuse       0.538142     0.606171   0.393829         0.787658\n",
       "4   pittsburgh       0.522873     0.602966   0.397034         0.794069\n",
       "5           kc       0.449827     0.580669   0.419331         0.838661\n",
       "6     columbus       0.429214     0.537027   0.462973         0.925946\n",
       "7   charleston       0.416165     0.518106   0.481894         0.963789\n",
       "8       dayton       0.521216     0.507270   0.492730         0.985460\n",
       "9      memphis       0.571606     0.481195   0.518805         1.037609\n",
       "10    st_louis       0.604476     0.420453   0.579547         1.159094\n",
       "11   milwaukee       0.618740     0.404241   0.595759         1.191517\n",
       "12     chicago       0.517389     0.336215   0.663785         1.327569\n",
       "13   baltimore       0.611119     0.217094   0.782906         1.565813"
      ]
     },
     "execution_count": 19,
     "metadata": {},
     "output_type": "execute_result"
    }
   ],
   "source": [
    "all_analysis = all_analysis.sort_values(['interaction'], ascending=[False])\n",
    "all_analysis.reset_index(drop=True)"
   ]
  },
  {
   "cell_type": "code",
   "execution_count": 20,
   "metadata": {},
   "outputs": [
    {
     "data": {
      "text/plain": [
       "Text(0.5, 1.0, 'interaction by city')"
      ]
     },
     "execution_count": 20,
     "metadata": {},
     "output_type": "execute_result"
    },
    {
     "data": {
      "image/png": "[encoded data removed]",
      "text/plain": [
       "<Figure size 432x288 with 1 Axes>"
      ]
     },
     "metadata": {
      "needs_background": "light"
     },
     "output_type": "display_data"
    }
   ],
   "source": [
    "plt.barh(all_analysis.city, all_analysis.interaction)\n",
    "plt.xlabel('interaction index')\n",
    "plt.ylabel('city')\n",
    "plt.title('interaction by city')\n",
    "\n"
   ]
  },
  {
   "cell_type": "code",
   "execution_count": 21,
   "metadata": {},
   "outputs": [
    {
     "data": {
      "text/plain": [
       "Text(0.5, 1.0, 'isolation by city')"
      ]
     },
     "execution_count": 21,
     "metadata": {},
     "output_type": "execute_result"
    },
    {
     "data": {
      "image/png": "[encoded data removed]",
      "text/plain": [
       "<Figure size 432x288 with 1 Axes>"
      ]
     },
     "metadata": {
      "needs_background": "light"
     },
     "output_type": "display_data"
    }
   ],
   "source": [
    "plt.barh(all_analysis.city, all_analysis.isolation)\n",
    "plt.xlabel('isolation index')\n",
    "plt.ylabel('city')\n",
    "plt.title('isolation by city')\n"
   ]
  },
  {
   "cell_type": "code",
   "execution_count": 22,
   "metadata": {},
   "outputs": [
    {
     "data": {
      "text/plain": [
       "Text(0, 0.5, 'index')"
      ]
     },
     "execution_count": 22,
     "metadata": {},
     "output_type": "execute_result"
    },
    {
     "data": {
      "image/png": "[encoded data removed]",
      "text/plain": [
       "<Figure size 432x288 with 1 Axes>"
      ]
     },
     "metadata": {
      "needs_background": "light"
     },
     "output_type": "display_data"
    }
   ],
   "source": [
    "plt.scatter(all_analysis.city, all_analysis.isolation, alpha = 0.7, label = 'isolation')\n",
    "plt.scatter(all_analysis.city, all_analysis.dissimilarity, alpha = 0.7, label = 'dissimilarity')\n",
    "plt.legend()\n",
    "plt.xticks(rotation=90)\n",
    "plt.xlabel('city')\n",
    "plt.ylabel('index')\n"
   ]
  },
  {
   "cell_type": "code",
   "execution_count": 23,
   "metadata": {},
   "outputs": [
    {
     "data": {
      "text/plain": [
       "Text(0, 0.5, 'index')"
      ]
     },
     "execution_count": 23,
     "metadata": {},
     "output_type": "execute_result"
    },
    {
     "data": {
      "image/png": "[encoded data removed]",
      "text/plain": [
       "<Figure size 432x288 with 1 Axes>"
      ]
     },
     "metadata": {
      "needs_background": "light"
     },
     "output_type": "display_data"
    }
   ],
   "source": [
    "plt.scatter(all_analysis.city, all_analysis.isolation, alpha = 0.7, label = 'isolation')\n",
    "plt.scatter(all_analysis.city, all_analysis.interaction, alpha = 0.7, label = 'interaction')\n",
    "plt.legend()\n",
    "plt.xticks(rotation=90)\n",
    "plt.xlabel('city')\n",
    "plt.ylabel('index')"
   ]
  },
  {
   "cell_type": "code",
   "execution_count": 25,
   "metadata": {},
   "outputs": [
    {
     "data": {
      "text/html": [
       "<div>\n",
       "<style scoped>\n",
       "    .dataframe tbody tr th:only-of-type {\n",
       "        vertical-align: middle;\n",
       "    }\n",
       "\n",
       "    .dataframe tbody tr th {\n",
       "        vertical-align: top;\n",
       "    }\n",
       "\n",
       "    .dataframe thead th {\n",
       "        text-align: right;\n",
       "    }\n",
       "</style>\n",
       "<table border=\"1\" class=\"dataframe\">\n",
       "  <thead>\n",
       "    <tr style=\"text-align: right;\">\n",
       "      <th></th>\n",
       "      <th>city</th>\n",
       "      <th>dissimilarity</th>\n",
       "      <th>interaction</th>\n",
       "      <th>isolation</th>\n",
       "      <th>new_segregation</th>\n",
       "    </tr>\n",
       "  </thead>\n",
       "  <tbody>\n",
       "    <tr>\n",
       "      <th>0</th>\n",
       "      <td>denver</td>\n",
       "      <td>0.356283</td>\n",
       "      <td>0.685280</td>\n",
       "      <td>0.314720</td>\n",
       "      <td>0.629440</td>\n",
       "    </tr>\n",
       "    <tr>\n",
       "      <th>1</th>\n",
       "      <td>wichita</td>\n",
       "      <td>0.412259</td>\n",
       "      <td>0.639562</td>\n",
       "      <td>0.360438</td>\n",
       "      <td>0.720875</td>\n",
       "    </tr>\n",
       "    <tr>\n",
       "      <th>2</th>\n",
       "      <td>ok_city</td>\n",
       "      <td>0.321733</td>\n",
       "      <td>0.613472</td>\n",
       "      <td>0.386528</td>\n",
       "      <td>0.773056</td>\n",
       "    </tr>\n",
       "    <tr>\n",
       "      <th>3</th>\n",
       "      <td>syracuse</td>\n",
       "      <td>0.538142</td>\n",
       "      <td>0.606171</td>\n",
       "      <td>0.393829</td>\n",
       "      <td>0.787658</td>\n",
       "    </tr>\n",
       "    <tr>\n",
       "      <th>4</th>\n",
       "      <td>pittsburgh</td>\n",
       "      <td>0.522873</td>\n",
       "      <td>0.602966</td>\n",
       "      <td>0.397034</td>\n",
       "      <td>0.794069</td>\n",
       "    </tr>\n",
       "    <tr>\n",
       "      <th>5</th>\n",
       "      <td>kc</td>\n",
       "      <td>0.449827</td>\n",
       "      <td>0.580669</td>\n",
       "      <td>0.419331</td>\n",
       "      <td>0.838661</td>\n",
       "    </tr>\n",
       "    <tr>\n",
       "      <th>6</th>\n",
       "      <td>columbus</td>\n",
       "      <td>0.429214</td>\n",
       "      <td>0.537027</td>\n",
       "      <td>0.462973</td>\n",
       "      <td>0.925946</td>\n",
       "    </tr>\n",
       "    <tr>\n",
       "      <th>7</th>\n",
       "      <td>charleston</td>\n",
       "      <td>0.416165</td>\n",
       "      <td>0.518106</td>\n",
       "      <td>0.481894</td>\n",
       "      <td>0.963789</td>\n",
       "    </tr>\n",
       "    <tr>\n",
       "      <th>8</th>\n",
       "      <td>dayton</td>\n",
       "      <td>0.521216</td>\n",
       "      <td>0.507270</td>\n",
       "      <td>0.492730</td>\n",
       "      <td>0.985460</td>\n",
       "    </tr>\n",
       "    <tr>\n",
       "      <th>9</th>\n",
       "      <td>memphis</td>\n",
       "      <td>0.571606</td>\n",
       "      <td>0.481195</td>\n",
       "      <td>0.518805</td>\n",
       "      <td>1.037609</td>\n",
       "    </tr>\n",
       "    <tr>\n",
       "      <th>10</th>\n",
       "      <td>st_louis</td>\n",
       "      <td>0.604476</td>\n",
       "      <td>0.420453</td>\n",
       "      <td>0.579547</td>\n",
       "      <td>1.159094</td>\n",
       "    </tr>\n",
       "    <tr>\n",
       "      <th>11</th>\n",
       "      <td>milwaukee</td>\n",
       "      <td>0.618740</td>\n",
       "      <td>0.404241</td>\n",
       "      <td>0.595759</td>\n",
       "      <td>1.191517</td>\n",
       "    </tr>\n",
       "    <tr>\n",
       "      <th>12</th>\n",
       "      <td>chicago</td>\n",
       "      <td>0.517389</td>\n",
       "      <td>0.336215</td>\n",
       "      <td>0.663785</td>\n",
       "      <td>1.327569</td>\n",
       "    </tr>\n",
       "    <tr>\n",
       "      <th>13</th>\n",
       "      <td>baltimore</td>\n",
       "      <td>0.611119</td>\n",
       "      <td>0.217094</td>\n",
       "      <td>0.782906</td>\n",
       "      <td>1.565813</td>\n",
       "    </tr>\n",
       "  </tbody>\n",
       "</table>\n",
       "</div>"
      ],
      "text/plain": [
       "          city  dissimilarity  interaction  isolation  new_segregation\n",
       "0       denver       0.356283     0.685280   0.314720         0.629440\n",
       "1      wichita       0.412259     0.639562   0.360438         0.720875\n",
       "2      ok_city       0.321733     0.613472   0.386528         0.773056\n",
       "3     syracuse       0.538142     0.606171   0.393829         0.787658\n",
       "4   pittsburgh       0.522873     0.602966   0.397034         0.794069\n",
       "5           kc       0.449827     0.580669   0.419331         0.838661\n",
       "6     columbus       0.429214     0.537027   0.462973         0.925946\n",
       "7   charleston       0.416165     0.518106   0.481894         0.963789\n",
       "8       dayton       0.521216     0.507270   0.492730         0.985460\n",
       "9      memphis       0.571606     0.481195   0.518805         1.037609\n",
       "10    st_louis       0.604476     0.420453   0.579547         1.159094\n",
       "11   milwaukee       0.618740     0.404241   0.595759         1.191517\n",
       "12     chicago       0.517389     0.336215   0.663785         1.327569\n",
       "13   baltimore       0.611119     0.217094   0.782906         1.565813"
      ]
     },
     "execution_count": 25,
     "metadata": {},
     "output_type": "execute_result"
    }
   ],
   "source": [
    "all_analysis = all_analysis.sort_values(['new_segregation'], ascending=[True])\n",
    "all_analysis.reset_index(drop=True)"
   ]
  },
  {
   "cell_type": "code",
   "execution_count": 26,
   "metadata": {},
   "outputs": [
    {
     "data": {
      "text/plain": [
       "Text(0, 0.5, 'index')"
      ]
     },
     "execution_count": 26,
     "metadata": {},
     "output_type": "execute_result"
    },
    {
     "data": {
      "image/png": "[encoded data removed]",
      "text/plain": [
       "<Figure size 432x288 with 1 Axes>"
      ]
     },
     "metadata": {
      "needs_background": "light"
     },
     "output_type": "display_data"
    }
   ],
   "source": [
    "plt.scatter(all_analysis.city, all_analysis.isolation, alpha = 0.7, label = 'isolation')\n",
    "plt.scatter(all_analysis.city, all_analysis.dissimilarity, alpha = 0.7, label = 'dissimilarity')\n",
    "plt.scatter(all_analysis.city, all_analysis.new_segregation, alpha = 0.7, label = 'new_segregation')\n",
    "plt.legend()\n",
    "plt.xticks(rotation=90)\n",
    "plt.xlabel('city')\n",
    "plt.ylabel('index')"
   ]
  },
  {
   "cell_type": "code",
   "execution_count": null,
   "metadata": {},
   "outputs": [],
   "source": []
  }
 ],
 "metadata": {
  "kernelspec": {
   "display_name": "Python 3",
   "language": "python",
   "name": "python3"
  },
  "language_info": {
   "codemirror_mode": {
    "name": "ipython",
    "version": 3
   },
   "file_extension": ".py",
   "mimetype": "text/x-python",
   "name": "python",
   "nbconvert_exporter": "python",
   "pygments_lexer": "ipython3",
   "version": "3.7.1"
  }
 },
 "nbformat": 4,
 "nbformat_minor": 2
}
